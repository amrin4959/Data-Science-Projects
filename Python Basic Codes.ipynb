{
  "cells": [
    {
      "cell_type": "markdown",
      "metadata": {
        "id": "QYc6Y8925r2-"
      },
      "source": [
        "# Lesson 1.2: Python Basics\n",
        "## Topics Covered:\n",
        "- Syntax and Semantics\n",
        "- Variables and Data Types\n",
        "- Basic Operators (Arithmetic, Comparison, Logical)\n"
      ]
    },
    {
      "cell_type": "markdown",
      "metadata": {
        "id": "8aSX1W0j5r3A"
      },
      "source": [
        "## 1. Syntax and Semantics\n",
        "\n",
        "**Question 1:** Write a Python program to print \"Hello, World!\"."
      ]
    },
    {
      "cell_type": "code",
      "metadata": {
        "colab": {
          "base_uri": "https://localhost:8080/"
        },
        "id": "1-6NI0bK5r3A",
        "outputId": "06209e79-1288-4e32-b327-31bbe0ca0836"
      },
      "outputs": [
        {
          "output_type": "stream",
          "name": "stdout",
          "text": [
            "Hello, World!\n"
          ]
        }
      ],
      "source": [
        "print(\"Hello, World!\")"
      ],
      "execution_count": 62
    },
    {
      "cell_type": "markdown",
      "metadata": {
        "id": "09-HPU_O5r3B"
      },
      "source": [
        "**Question 2:** Write a Python program that takes a user input and prints it."
      ]
    },
    {
      "cell_type": "code",
      "metadata": {
        "colab": {
          "base_uri": "https://localhost:8080/"
        },
        "id": "WEHUFwzP5r3B",
        "outputId": "1a95347a-ed48-4194-a8d5-475323d65e60"
      },
      "outputs": [
        {
          "output_type": "stream",
          "name": "stdout",
          "text": [
            "Enter a number: 5\n",
            "5\n"
          ]
        }
      ],
      "source": [
        "ans = int(input(\"Enter a number: \"))\n",
        "print(ans)\n"
      ],
      "execution_count": 63
    },
    {
      "cell_type": "markdown",
      "metadata": {
        "id": "g5eCUYsK5r3C"
      },
      "source": [
        "**Question 3:** Write a Python program to check if a number is positive, negative, or zero."
      ]
    },
    {
      "cell_type": "code",
      "metadata": {
        "colab": {
          "base_uri": "https://localhost:8080/"
        },
        "id": "m0mJUjp95r3C",
        "outputId": "789330d9-b439-403a-ebe0-80684397ed16"
      },
      "outputs": [
        {
          "output_type": "stream",
          "name": "stdout",
          "text": [
            "Enter a number: 0\n",
            "Zero\n"
          ]
        }
      ],
      "source": [
        "num = int(input(\"Enter a number: \"))\n",
        "\n",
        "if(num>0):\n",
        " print(\"Positive\")\n",
        "elif(num<0):\n",
        " print(\"Negative\")\n",
        "else:\n",
        " print(\"Zero\")"
      ],
      "execution_count": 27
    },
    {
      "cell_type": "markdown",
      "metadata": {
        "id": "hRwS7XfR5r3C"
      },
      "source": [
        "**Question 4:** Write a Python program to find the largest of three numbers."
      ]
    },
    {
      "cell_type": "code",
      "metadata": {
        "colab": {
          "base_uri": "https://localhost:8080/"
        },
        "id": "08Iy7aZO5r3C",
        "outputId": "870a48f0-f104-4679-cf46-16403fb1ee7f"
      },
      "outputs": [
        {
          "output_type": "stream",
          "name": "stdout",
          "text": [
            "Enter 1st number: 2\n",
            "Enter 2nd number: 7\n",
            "Enter 3rd number: 7\n",
            "num2,num3 both are the largest\n"
          ]
        }
      ],
      "source": [
        "num1 = int(input(\"Enter 1st number: \"))\n",
        "num2 = int(input(\"Enter 2nd number: \"))\n",
        "num3 = int(input(\"Enter 3rd number: \"))\n",
        "\n",
        "if(num1>num2 and num1>num3):\n",
        " print(num1, \"is the largest number\")\n",
        "elif(num2>num1 and num2>num3):\n",
        " print(num2, \"is the largest number\")\n",
        "elif(num3>num1 and num3>num2):\n",
        " print(num3, \"is the largest number\")\n",
        "elif(num3>num1 and num3==num2):\n",
        " print(\"num2,num3 both are the largest\")\n",
        "elif(num1>num3 and num1==num2):\n",
        " print(\"num1,num2 both are the largest\")\n",
        "elif(num1>num2 and num1==num3):\n",
        " print(\"num1,num3 both are the largest\")\n",
        "else:\n",
        " print(\"All are Equal\")"
      ],
      "execution_count": 41
    },
    {
      "cell_type": "markdown",
      "metadata": {
        "id": "lSD6m65l5r3D"
      },
      "source": [
        "**Question 5:** Write a Python program to calculate the factorial of a number."
      ]
    },
    {
      "cell_type": "code",
      "metadata": {
        "colab": {
          "base_uri": "https://localhost:8080/"
        },
        "id": "BWKqZBks5r3D",
        "outputId": "a45dea65-9da8-49df-ed93-20d8b98acefb"
      },
      "outputs": [
        {
          "output_type": "stream",
          "name": "stdout",
          "text": [
            "Enter a number: 5\n",
            "120\n"
          ]
        }
      ],
      "source": [
        "num = int(input(\"Enter a number: \"))\n",
        "\n",
        "fact=1\n",
        "for i in range(1,num+1):\n",
        " fact = i*fact\n",
        "\n",
        "print(fact)"
      ],
      "execution_count": 49
    },
    {
      "cell_type": "markdown",
      "metadata": {
        "id": "EyGkbJez5r3F"
      },
      "source": [
        "## 2. Variables and Data Types\n",
        "\n",
        "**Question 6:** Create variables of different data types: integer, float, string, and boolean. Print their values and types."
      ]
    },
    {
      "cell_type": "code",
      "metadata": {
        "colab": {
          "base_uri": "https://localhost:8080/"
        },
        "id": "77Nv4yis5r3F",
        "outputId": "1565b440-014c-486e-8236-ad922b68d5b0"
      },
      "outputs": [
        {
          "output_type": "stream",
          "name": "stdout",
          "text": [
            "5 <class 'int'>\n",
            "3.96 <class 'float'>\n",
            "Hello <class 'str'>\n",
            "True <class 'bool'>\n"
          ]
        }
      ],
      "source": [
        "a = 5\n",
        "b = 3.96\n",
        "c = \"Hello\"\n",
        "d = True\n",
        "\n",
        "print(a, type(a))\n",
        "print(b, type(b))\n",
        "print(c, type(c))\n",
        "print(d, type(d))"
      ],
      "execution_count": 57
    },
    {
      "cell_type": "markdown",
      "metadata": {
        "id": "hX9HVLaW5r3F"
      },
      "source": [
        "**Question 7:** Write a Python program to swap the values of two variables."
      ]
    },
    {
      "cell_type": "code",
      "metadata": {
        "colab": {
          "base_uri": "https://localhost:8080/"
        },
        "id": "-7xAKTW95r3F",
        "outputId": "1dcca344-4e0f-42e2-8a67-869225d5733b"
      },
      "outputs": [
        {
          "output_type": "stream",
          "name": "stdout",
          "text": [
            "10\n",
            "5\n"
          ]
        }
      ],
      "source": [
        "a = 5\n",
        "b = 10\n",
        "\n",
        "a = a+b\n",
        "b = a-b\n",
        "a = a-b\n",
        "\n",
        "print(a)\n",
        "print(b)"
      ],
      "execution_count": 62
    },
    {
      "cell_type": "markdown",
      "metadata": {
        "id": "7cXsuTaY5r3G"
      },
      "source": [
        "**Question 8:** Write a Python program to convert Celsius to Fahrenheit."
      ]
    },
    {
      "cell_type": "code",
      "metadata": {
        "colab": {
          "base_uri": "https://localhost:8080/"
        },
        "id": "oEcHofGq5r3G",
        "outputId": "bf64b506-07d6-46c6-d88f-a7746475b5ef"
      },
      "outputs": [
        {
          "output_type": "stream",
          "name": "stdout",
          "text": [
            "Enter temperature in Celsius: 44.87\n",
            "112.76599999999999\n"
          ]
        }
      ],
      "source": [
        "temp = float(input(\"Enter temperature in Celsius: \"))\n",
        "\n",
        "fahr = (temp * 9/5) + 32\n",
        "\n",
        "# Print the result\n",
        "print(fahr)"
      ],
      "execution_count": 63
    },
    {
      "cell_type": "markdown",
      "metadata": {
        "id": "GUR5AOZd5r3G"
      },
      "source": [
        "**Question 9:** Write a Python program to concatenate two strings."
      ]
    },
    {
      "cell_type": "code",
      "metadata": {
        "colab": {
          "base_uri": "https://localhost:8080/"
        },
        "id": "d0Vbqr5h5r3G",
        "outputId": "95dadb22-8b24-4907-9c98-8a90f37c8907"
      },
      "outputs": [
        {
          "output_type": "stream",
          "name": "stdout",
          "text": [
            "Hello World!\n"
          ]
        }
      ],
      "source": [
        "a = \"Hello\"\n",
        "b = \"World!\"\n",
        "\n",
        "print(a + \" \" + b)"
      ],
      "execution_count": 72
    },
    {
      "cell_type": "markdown",
      "metadata": {
        "id": "uYutrgTJ5r3G"
      },
      "source": [
        "**Question 10:** Write a Python program to check if a variable is of a specific data type."
      ]
    },
    {
      "cell_type": "code",
      "metadata": {
        "colab": {
          "base_uri": "https://localhost:8080/"
        },
        "id": "JZcn5vMJ5r3G",
        "outputId": "b8315355-6d7c-42ea-ef73-ccbbd6b32329"
      },
      "outputs": [
        {
          "output_type": "stream",
          "name": "stdout",
          "text": [
            "Boolean\n"
          ]
        }
      ],
      "source": [
        "num = True\n",
        "\n",
        "if isinstance(num, bool):\n",
        "    print(\"Boolean\")\n",
        "elif isinstance(num, int):\n",
        "    print(\"Integer\")\n",
        "elif isinstance(num, float):\n",
        "    print(\"Float\")\n",
        "elif isinstance(num, str):\n",
        "    print(\"String\")\n",
        "else:\n",
        "    print(\"Another Type:\", type(num))\n"
      ],
      "execution_count": 80
    },
    {
      "cell_type": "markdown",
      "metadata": {
        "id": "Vp-Yw5lF5r3H"
      },
      "source": [
        "## 3. Basic Operators (Arithmetic, Comparison, Logical)\n",
        "\n",
        "**Question 11:** Write a Python program to perform arithmetic operations: addition, subtraction, multiplication, and division."
      ]
    },
    {
      "cell_type": "code",
      "metadata": {
        "colab": {
          "base_uri": "https://localhost:8080/"
        },
        "id": "jyLauRfy5r3H",
        "outputId": "c63cf729-fa42-439e-cec1-03856f6dee60"
      },
      "outputs": [
        {
          "output_type": "stream",
          "name": "stdout",
          "text": [
            "Enter 1st number: 4\n",
            "Enter 2nd number: 9\n",
            "Addition: 13\n",
            "Subtraction: -5\n",
            "Multiplication: 36\n",
            "Division: 0.4444444444444444\n"
          ]
        }
      ],
      "source": [
        "num1 = int(input(\"Enter 1st number: \"))\n",
        "num2 = int(input(\"Enter 2nd number: \"))\n",
        "\n",
        "print(\"Addition:\", num1 + num2)\n",
        "print(\"Subtraction:\", num1 - num2)\n",
        "print(\"Multiplication:\", num1 * num2)\n",
        "if (num2 == 0):\n",
        " print(\"Undefined\")\n",
        "else:\n",
        " print(\"Division:\", num1/num2)"
      ],
      "execution_count": 8
    },
    {
      "cell_type": "markdown",
      "metadata": {
        "id": "FRMcMJqM5r3H"
      },
      "source": [
        "**Question 12:** Write a Python program to demonstrate comparison operators: equal to, not equal to, greater than, less than."
      ]
    },
    {
      "cell_type": "code",
      "metadata": {
        "colab": {
          "base_uri": "https://localhost:8080/"
        },
        "id": "wCVlkRht5r3H",
        "outputId": "60c457cd-2d15-4a0c-d59d-54792740f6ce"
      },
      "outputs": [
        {
          "output_type": "stream",
          "name": "stdout",
          "text": [
            "Enter 1st number: 5\n",
            "Enter 2nd number: 3\n",
            "num1 == num2: False\n",
            "num1 != num2: True\n",
            "num1 > num2: True\n",
            "num1 < num2: False\n"
          ]
        }
      ],
      "source": [
        "num1 = int(input(\"Enter 1st number: \"))\n",
        "num2 = int(input(\"Enter 2nd number: \"))\n",
        "\n",
        "print(\"num1 == num2:\", num1 == num2)\n",
        "print(\"num1 != num2:\", num1 != num2)\n",
        "print(\"num1 > num2:\", num1 > num2)\n",
        "print(\"num1 < num2:\", num1 < num2)"
      ],
      "execution_count": 11
    },
    {
      "cell_type": "markdown",
      "metadata": {
        "id": "eL89n-Ye5r3H"
      },
      "source": [
        "**Question 13:** Write a Python program to demonstrate logical operators: and, or, not."
      ]
    },
    {
      "cell_type": "code",
      "metadata": {
        "colab": {
          "base_uri": "https://localhost:8080/"
        },
        "id": "gIiLS5JJ5r3H",
        "outputId": "59132684-0d60-4fc1-94ff-ad3add9ce222"
      },
      "outputs": [
        {
          "output_type": "stream",
          "name": "stdout",
          "text": [
            "num1 and num2: False\n",
            "num1 or num2: True\n",
            "not num1: False\n",
            "not num2: True\n"
          ]
        }
      ],
      "source": [
        "num1 = True\n",
        "num2 = False\n",
        "\n",
        "print(\"num1 and num2:\", num1 and num2)\n",
        "print(\"num1 or num2:\", num1 or num2)\n",
        "print(\"not num1:\", not num1)\n",
        "print(\"not num2:\", not num2)"
      ],
      "execution_count": 16
    },
    {
      "cell_type": "markdown",
      "metadata": {
        "id": "bj7iqnJz5r3I"
      },
      "source": [
        "**Question 14:** Write a Python program to calculate the square of a number."
      ]
    },
    {
      "cell_type": "code",
      "metadata": {
        "colab": {
          "base_uri": "https://localhost:8080/"
        },
        "id": "h_zqeWwO5r3I",
        "outputId": "9871c2ec-d3d0-4550-ae20-27e1db1815c3"
      },
      "outputs": [
        {
          "output_type": "stream",
          "name": "stdout",
          "text": [
            "Enter 1st number: 2\n",
            "4\n"
          ]
        }
      ],
      "source": [
        "num = int(input(\"Enter 1st number: \"))\n",
        "\n",
        "square = num ** 2\n",
        "print(square)"
      ],
      "execution_count": 20
    },
    {
      "cell_type": "markdown",
      "metadata": {
        "id": "3PWujzVK5r3I"
      },
      "source": [
        "**Question 15:** Write a Python program to check if a number is even or odd."
      ]
    },
    {
      "cell_type": "code",
      "metadata": {
        "colab": {
          "base_uri": "https://localhost:8080/"
        },
        "id": "gM3OklHK5r3I",
        "outputId": "a7bfb0f8-2cb5-41f0-f1f3-8d7c5fcf98f6"
      },
      "outputs": [
        {
          "output_type": "stream",
          "name": "stdout",
          "text": [
            "Enter a number: 12\n",
            "Even\n"
          ]
        }
      ],
      "source": [
        "num = int(input(\"Enter a number: \"))\n",
        "\n",
        "if(num%2==0):\n",
        "  print(\"Even\")\n",
        "else:\n",
        " print(\"Odd\")"
      ],
      "execution_count": 61
    },
    {
      "cell_type": "markdown",
      "metadata": {
        "id": "bHpX78dc5r3I"
      },
      "source": [
        "**Question 16:** Write a Python program to find the sum of the first n natural numbers."
      ]
    },
    {
      "cell_type": "code",
      "metadata": {
        "colab": {
          "base_uri": "https://localhost:8080/"
        },
        "id": "7-aZoHf05r3I",
        "outputId": "d534f282-3f71-4def-bb0a-f2641f72532d"
      },
      "outputs": [
        {
          "output_type": "stream",
          "name": "stdout",
          "text": [
            "Enter a number: 5\n",
            "15\n"
          ]
        }
      ],
      "source": [
        "n = int(input(\"Enter a number: \"))\n",
        "sum = 0\n",
        "\n",
        "for i in range (n+1):\n",
        "  sum += i\n",
        "\n",
        "print(sum)"
      ],
      "execution_count": 40
    },
    {
      "cell_type": "markdown",
      "metadata": {
        "id": "gE4__7UW5r3J"
      },
      "source": [
        "**Question 17:** Write a Python program to check if a year is a leap year."
      ]
    },
    {
      "cell_type": "code",
      "metadata": {
        "colab": {
          "base_uri": "https://localhost:8080/"
        },
        "id": "SUOvcVLX5r3J",
        "outputId": "5487f6ee-803f-401a-9900-0aaa36b31f4d"
      },
      "outputs": [
        {
          "output_type": "stream",
          "name": "stdout",
          "text": [
            "Enter a year: 2000\n",
            "Leap Year\n"
          ]
        }
      ],
      "source": [
        "year = int(input(\"Enter a year: \"))\n",
        "\n",
        "if((year % 4 == 0 and year%100 != 0) or (year % 400 == 0)):\n",
        " print(\"Leap Year\")\n",
        "else:\n",
        " print(\"NOT a Leap Year\")"
      ],
      "execution_count": 42
    },
    {
      "cell_type": "markdown",
      "metadata": {
        "id": "2Dlxuz9r5r3J"
      },
      "source": [
        "**Question 18:** Write a Python program to reverse a string."
      ]
    },
    {
      "cell_type": "code",
      "metadata": {
        "colab": {
          "base_uri": "https://localhost:8080/"
        },
        "id": "wR5E3mMu5r3J",
        "outputId": "ebeef11e-854b-4d72-e836-6aad05d61d2c"
      },
      "outputs": [
        {
          "output_type": "stream",
          "name": "stdout",
          "text": [
            "Enter a word: magenta\n",
            "Reversed string: atnegam\n"
          ]
        }
      ],
      "source": [
        "word = str(input(\"Enter a word: \"))\n",
        "rev = \"\"\n",
        "\n",
        "for i in range(len(word) - 1, -1, -1):\n",
        "    rev += word[i]\n",
        "\n",
        "print(\"Reversed string:\", rev)"
      ],
      "execution_count": 50
    },
    {
      "cell_type": "markdown",
      "metadata": {
        "id": "ACRMCmz35r3K"
      },
      "source": [
        "**Question 19:** Write a Python program to check if a string is a palindrome."
      ]
    },
    {
      "cell_type": "code",
      "metadata": {
        "colab": {
          "base_uri": "https://localhost:8080/"
        },
        "id": "vc8EfMKB5r3K",
        "outputId": "f5c2fa36-cf60-4f7b-9bea-89f116984458"
      },
      "outputs": [
        {
          "output_type": "stream",
          "name": "stdout",
          "text": [
            "Enter a word: yuy\n",
            "Palindrome\n"
          ]
        }
      ],
      "source": [
        "word = str(input(\"Enter a word: \"))\n",
        "rev = \"\"\n",
        "\n",
        "for i in range(len(word) - 1, -1, -1):\n",
        "    rev += word[i]\n",
        "\n",
        "if(word == rev):\n",
        " print(\"Palindrome\")\n",
        "else:\n",
        " print(\"Not a Palindrome\")"
      ],
      "execution_count": 54
    },
    {
      "cell_type": "markdown",
      "metadata": {
        "id": "caVRbasJ5r3i"
      },
      "source": [
        "**Question 20:** Write a Python program to sort a list of numbers in ascending order."
      ]
    },
    {
      "cell_type": "code",
      "metadata": {
        "colab": {
          "base_uri": "https://localhost:8080/"
        },
        "id": "8M9vHnQp5r3i",
        "outputId": "87d543c0-d52d-4fa0-ce28-05253ce8f539"
      },
      "outputs": [
        {
          "output_type": "stream",
          "name": "stdout",
          "text": [
            "[23, 45, 86, 334]\n"
          ]
        }
      ],
      "source": [
        "num = [45, 334, 86, 23]\n",
        "\n",
        "for i in range(len(num)):\n",
        " for j in range(len(num)-i-1):\n",
        "  if(num[j] > num[j+1]):\n",
        "   temp = num[j]\n",
        "   num[j] = num[j+1]\n",
        "   num[j+1] = temp\n",
        "\n",
        "print(num)"
      ],
      "execution_count": 56
    }
  ],
  "metadata": {
    "kernelspec": {
      "display_name": "Python 3",
      "language": "python",
      "name": "python3"
    },
    "language_info": {
      "codemirror_mode": {
        "name": "ipython",
        "version": 3
      },
      "file_extension": ".py",
      "mimetype": "text/x-python",
      "name": "python",
      "nbconvert_exporter": "python",
      "pygments_lexer": "ipython3",
      "version": "3.8.5"
    },
    "colab": {
      "provenance": []
    }
  },
  "nbformat": 4,
  "nbformat_minor": 0
}